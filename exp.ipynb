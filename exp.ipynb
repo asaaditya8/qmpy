{
 "cells": [
  {
   "cell_type": "code",
   "execution_count": 2,
   "metadata": {},
   "outputs": [
    {
     "data": {
      "text/plain": [
       "'/home/aaditya/Code/summer21/qmpy'"
      ]
     },
     "execution_count": 2,
     "metadata": {},
     "output_type": "execute_result"
    }
   ],
   "source": [
    "pwd"
   ]
  },
  {
   "cell_type": "code",
   "execution_count": 4,
   "metadata": {},
   "outputs": [],
   "source": [
    "from qmpy.analysis.miedema import Miedema, params"
   ]
  },
  {
   "cell_type": "code",
   "execution_count": 5,
   "metadata": {},
   "outputs": [
    {
     "data": {
      "text/plain": [
       "-0.02"
      ]
     },
     "execution_count": 5,
     "metadata": {},
     "output_type": "execute_result"
    }
   ],
   "source": [
    "Miedema.get({\"Fe\":0.4, \"Ni\":0.7})"
   ]
  },
  {
   "cell_type": "code",
   "execution_count": 6,
   "metadata": {},
   "outputs": [],
   "source": [
    "from itertools import combinations"
   ]
  },
  {
   "cell_type": "code",
   "execution_count": 38,
   "metadata": {},
   "outputs": [],
   "source": [
    "class Miedema_Ter:\n",
    "    def __init__(self, composition):\n",
    "        assert(isinstance(composition, dict))\n",
    "        self.composition = composition\n",
    "\n",
    "    def __call__(self):\n",
    "        dh_ter = 0\n",
    "        for i, j in combinations(self.composition.keys(), 2):\n",
    "            x_i = self.composition[i]\n",
    "            x_j = self.composition[j]\n",
    "            h_i_in_j = Miedema.get_ij({i : x_i, j : x_j}) #binary\n",
    "            h_j_in_i = Miedema.get_ij({j : x_j, i : x_j}) #binary\n",
    "            dh_ij = x_i * x_j * ((x_j * h_i_in_j) + (x_i * h_j_in_i ))\n",
    "            dh_ter += dh_ij\n",
    "\n",
    "        A, B, C = self.composition.keys()\n",
    "        htrans = [params[A][7], params[B][7], params[C][7]]\n",
    "        D_htrans = sum(htrans)\n",
    "        dh_ter += D_htrans\n",
    "        return round(dh_ter * 0.01036427, 2)"
   ]
  },
  {
   "cell_type": "code",
   "execution_count": 39,
   "metadata": {},
   "outputs": [
    {
     "data": {
      "text/plain": [
       "-0.01"
      ]
     },
     "execution_count": 39,
     "metadata": {},
     "output_type": "execute_result"
    }
   ],
   "source": [
    "Miedema_Ter({\"V\":0.05, \"Ti\":(0.8), \"Cr\":(1-0.05-0.8)})()"
   ]
  },
  {
   "cell_type": "code",
   "execution_count": 40,
   "metadata": {},
   "outputs": [
    {
     "data": {
      "text/plain": [
       "-0.0"
      ]
     },
     "execution_count": 40,
     "metadata": {},
     "output_type": "execute_result"
    }
   ],
   "source": [
    "96.45 * 1000 /10000 * Miedema_Ter({\"V\":0.05, \"Ti\":(0.1), \"Cr\":(1-0.05-0.1)})()"
   ]
  },
  {
   "cell_type": "code",
   "execution_count": 32,
   "metadata": {},
   "outputs": [
    {
     "data": {
      "text/plain": [
       "-964.5"
      ]
     },
     "execution_count": 32,
     "metadata": {},
     "output_type": "execute_result"
    }
   ],
   "source": [
    "96450 * -0.01"
   ]
  },
  {
   "cell_type": "code",
   "execution_count": null,
   "metadata": {},
   "outputs": [],
   "source": []
  }
 ],
 "metadata": {
  "jupytext": {
   "formats": "ipynb,auto:percent"
  },
  "kernelspec": {
   "display_name": "QMPY",
   "language": "python",
   "name": "qmpy"
  },
  "language_info": {
   "codemirror_mode": {
    "name": "ipython",
    "version": 3
   },
   "file_extension": ".py",
   "mimetype": "text/x-python",
   "name": "python",
   "nbconvert_exporter": "python",
   "pygments_lexer": "ipython3",
   "version": "3.6.13"
  }
 },
 "nbformat": 4,
 "nbformat_minor": 4
}
